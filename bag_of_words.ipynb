{
 "cells": [
  {
   "cell_type": "code",
   "execution_count": 78,
   "metadata": {
    "collapsed": false
   },
   "outputs": [
    {
     "name": "stdout",
     "output_type": "stream",
     "text": [
      "/usr/local/opt/python/bin/python2.7\n"
     ]
    }
   ],
   "source": [
    "import sys\n",
    "print(sys.executable)"
   ]
  },
  {
   "cell_type": "code",
   "execution_count": 79,
   "metadata": {
    "collapsed": false
   },
   "outputs": [],
   "source": [
    "import nltk as nltk\n",
    "import numpy as np\n",
    "import pandas as pd\n",
    "\n",
    "from collections import Counter\n",
    "\n",
    "train_set_x = pd.read_csv(\"data/train_set_x.csv\")\n",
    "train_set_y = pd.read_csv(\"data/train_set_y.csv\")\n",
    "train_set = pd.merge(train_set_x, train_set_y, on = 'Id')\n",
    "test_set_x = pd.read_csv(\"data/test_set_x.csv\")"
   ]
  },
  {
   "cell_type": "code",
   "execution_count": 98,
   "metadata": {
    "collapsed": false
   },
   "outputs": [
    {
     "name": "stdout",
     "output_type": "stream",
     "text": [
      "                           0    1    2   3  4\n",
      "0                          5   71  179  17  1\n",
      "00                         0   21    1   4  0\n",
      "000                        0  214   20   3  0\n",
      "0000                       0    1    0   0  0\n",
      "000000                     0    0    1   1  0\n",
      "00000000000000000000001    0    0    1   0  0\n",
      "000117                     0    1    0   0  0\n",
      "00012349angelsvsdevilshtm  0    1    0   0  0\n",
      "00024                      0    1    0   0  0\n",
      "000517                     0    1    0   0  0\n",
      "000725                     0    1    0   0  0\n",
      "000739                     0    1    0   0  0\n",
      "000euro                    0   32    1   0  0\n",
      "000webhost                 0    0    2   0  0\n",
      "000…                       0    1    0   0  0\n",
      "000€                       0   49    0   0  0\n",
      "000€an                     0   49    0   0  0\n",
      "0010auto201601162219py     0    0    1   0  0\n",
      "001116                     0    3    0   0  0\n",
      "001529                     0    1    0   0  0\n",
      "002111                     0    2    0   0  0\n",
      "002316                     0    1    0   0  0\n",
      "002321                     0    1    0   0  0\n",
      "002455                     0    1    0   0  0\n",
      "002653                     0    1    0   0  0\n",
      "003111                     0    1    0   0  0\n",
      "003601                     0    1    0   0  0\n",
      "003914                     0   12    0   0  0\n",
      "004442                     0    5    0   0  0\n",
      "004506                     0    0    1   0  0\n",
      "...                       ..  ...  ...  .. ..\n",
      "�ventuellement             0    3    1   0  0\n",
      "�ventuels                  0    1    0   0  0\n",
      "�videment                  0    2    0   0  0\n",
      "�videmment                 0   15    0   0  0\n",
      "�vidence                   0    2    0   0  0\n",
      "�vident                    0    7    0   0  0\n",
      "�vidente                   0    2    0   0  0\n",
      "�videntes                  0    2    0   0  0\n",
      "�vidents                   0    1    0   0  0\n",
      "�vite                      0    3    0   0  0\n",
      "�viter                     0    6    0   0  0\n",
      "�vit�                      0    1    0   0  0\n",
      "�volue                     0    1    0   0  0\n",
      "�voluer                    0    1    0   0  0\n",
      "�volution                  0    1    0   0  0\n",
      "�volu�                     0    1    0   0  0\n",
      "�voquer                    0    1    0   0  0\n",
      "�voqu�                     0    1    0   0  0\n",
      "�v�nement                  0    1    0   0  0\n",
      "�v�nements                 0    1    0   0  0\n",
      "�ä¸€                       0    0    5   0  0\n",
      "�ğÿ                        0    0   60   0  0\n",
      "�ğÿ�¼                      0    0    2   0  0\n",
      "��                         0   11    0   0  0\n",
      "��aji                      0    1    0   0  0\n",
      "��audition                 0    2    0   0  0\n",
      "��la                       0    1    0   0  0\n",
      "��pogo��                   0    1    0   0  0\n",
      "��rapproche��              0    1    0   0  0\n",
      "����                       0    1    0   0  0\n",
      "\n",
      "[186926 rows x 5 columns]\n"
     ]
    }
   ],
   "source": [
    "def decode_string(s):\n",
    "    return nltk.word_tokenize(str(s).decode('utf-8').lower())\n",
    "\n",
    "# Produce new representation of data such that each word is associated with \n",
    "# the number of times it is observed in a text of a particular language.\n",
    "\n",
    "bow = {}\n",
    "\n",
    "# Construct hash of arrays.\n",
    "\n",
    "for index, row in train_set.iterrows():\n",
    "    # Code the language of the observation\n",
    "    category = np.array([0, 0, 0, 0, 0])\n",
    "    category[row['Category']] = 1\n",
    "    # Break the text into words\n",
    "    words = decode_string(row['Text'])\n",
    "    for word in words:\n",
    "        if word in bow:\n",
    "            # Sum element-wise with entries.\n",
    "            bow[word] += category\n",
    "        else:\n",
    "            bow[word] = category\n",
    "\n",
    "# Convert into data frame\n",
    "            \n",
    "bow = pd.DataFrame(bow).transpose()\n",
    "\n",
    "print (bow)"
   ]
  },
  {
   "cell_type": "code",
   "execution_count": 99,
   "metadata": {
    "collapsed": false
   },
   "outputs": [
    {
     "name": "stdout",
     "output_type": "stream",
     "text": [
      "            Id                                      Text\n",
      "0            0   e i m e r u l t t à i i e x p t e n ’ r\n",
      "1            1   t b s m s d s n w i s o u n e n e e e t\n",
      "2            2   e e p o n e a ’ i t l s s h l c q i t c\n",
      "3            3   p s n r t n e e s n n e m i u i é e r r\n",
      "4            4   e r e t q e n e r e u e d n l p u a é e\n",
      "5            5   t f n t q o n ’ n l l o e h v u s l s s\n",
      "6            6   f t g n o t b z h s d u f e n o d i e r\n",
      "7            7   i m s a s u l 0 i m t s j e a m r r u l\n",
      "8            8   d e a n d t i z r s s e a p r d g r q a\n",
      "9            9  w n a 😯 7 r n m a 2 e x d û n f s s r d\n",
      "10          10                   n i i o i h k e s l e t\n",
      "11          11   e a a u s c s e d o t m a n n i t a l e\n",
      "12          12   o r s n ż i ż a p i o a i z m s t a z e\n",
      "13          13   a m q a b o o a e ± a e n s ã r s r c u\n",
      "14          14   p l a a n k d e a t i p k w u r a ł w y\n",
      "15          15   r u n t e r o e t c t c u e s h o e d e\n",
      "16          16   m o e y m s r l é u e a m o o f t u e z\n",
      "17          17   l i s e e t n e o r b e e t ¿ d r ã n ã\n",
      "18          18   o o s m r e o s i n e u m o e t o r l c\n",
      "19          19   c i e n h a h u s c w e r k e r n n l d\n",
      "20          20   t c u m o i s s t u l m a s o d i s h a\n",
      "21          21   t e n 1 e y a d e a d s e r 1 n s i h n\n",
      "22          22   u p a h r s m s d e f a o e r s g c n i\n",
      "23          23                                     t i l\n",
      "24          24   d e d a a i w s e n r i n e r t h ö a j\n",
      "25          25   l c x a t m e 1 h f h h l o o l h 9 a j\n",
      "26          26                                       í s\n",
      "27          27   v a s e t s d s n é s l r n s e u r e r\n",
      "28          28                                 a o r l c\n",
      "29          29   s u o h i m … r s n n e t e o d o p m e\n",
      "...        ...                                       ...\n",
      "118478  118478   à o c a e b o l f h n l j j é d a e o à\n",
      "118479  118479                                 l o a c r\n",
      "118480  118480                 p u a c r m e o c u b e i\n",
      "118481  118481   a é e e á e k p j i o i a l k b i e e o\n",
      "118482  118482   i t u n r u e f a q r r h u t u h h y e\n",
      "118483  118483   n d b t s r n w n i n b 2 i u t r t 5 a\n",
      "118484  118484   i s z e c a e u s e f n n s t h i c s c\n",
      "118485  118485   s h t l o o s e n r f g u r s r s a u e\n",
      "118486  118486   e d r t t r s g s t y l q c b d p a é p\n",
      "118487  118487   l e a r j d d a l e e n s a t d e v e a\n",
      "118488  118488   t i e o c e t r a i b f s n f d a e a f\n",
      "118489  118489   s � d � u a i e a t p l d c t m a r i c\n",
      "118490  118490   a r s i c o e u t u o r m p r q o o e l\n",
      "118491  118491   i u i s i a a a y a a j a b o a i n m a\n",
      "118492  118492   u i o a s s t l e r y m e l g d n t t n\n",
      "118493  118493   n j e r n c l n s t l n r s r u r é r a\n",
      "118494  118494   e l u a g 0 e d r d e e 2 e l n 0 t g 4\n",
      "118495  118495   i m u e s r e m d i i u t é u u e s s e\n",
      "118496  118496                   e b e v e n n b o i u n\n",
      "118497  118497   e 1 o r t a c t i e h i 1 a e 3 a t 7 n\n",
      "118498  118498   t t a n e l d t l s u a t i p q l i o i\n",
      "118499  118499   o a u i a m s l s a u u a h n e c a i h\n",
      "118500  118500   s q r i i e f r d e é u u s n t e u e a\n",
      "118501  118501   n y c m p o o o m u s p i n e n o m r e\n",
      "118502  118502   e ê m m t a n v c t n e a b s t d u a e\n",
      "118503  118503   a m p ³ u a o y i h u b z m a e c s i o\n",
      "118504  118504   e n m r r b v o e 2 e u d e j r s u d r\n",
      "118505  118505           e a o n b z s a m l b r o l e o\n",
      "118506  118506   o a e ž ô k r d z v d k t á m y n j t š\n",
      "118507  118507           e n t z b z n l e l r a e r i e\n",
      "\n",
      "[118508 rows x 2 columns]\n"
     ]
    }
   ],
   "source": [
    "print(test_set_x)\n"
   ]
  },
  {
   "cell_type": "code",
   "execution_count": null,
   "metadata": {
    "collapsed": true
   },
   "outputs": [],
   "source": []
  }
 ],
 "metadata": {
  "kernelspec": {
   "display_name": "Python 2",
   "language": "python",
   "name": "python2"
  }
 },
 "nbformat": 4,
 "nbformat_minor": 2
}

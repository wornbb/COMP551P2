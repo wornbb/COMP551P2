{
 "cells": [
  {
   "cell_type": "code",
   "execution_count": 78,
   "metadata": {
    "collapsed": false
   },
   "outputs": [
    {
     "name": "stdout",
     "output_type": "stream",
     "text": [
      "/usr/local/opt/python/bin/python2.7\n"
     ]
    }
   ],
   "source": [
    "import sys\n",
    "print(sys.executable)"
   ]
  },
  {
   "cell_type": "code",
   "execution_count": 79,
   "metadata": {
    "collapsed": false
   },
   "outputs": [],
   "source": [
    "import nltk as nltk\n",
    "import numpy as np\n",
    "import pandas as pd\n",
    "\n",
    "from collections import Counter\n",
    "\n",
    "train_set_x = pd.read_csv(\"data/train_set_x.csv\")\n",
    "train_set_y = pd.read_csv(\"data/train_set_y.csv\")\n",
    "train_set = pd.merge(train_set_x, train_set_y, on = 'Id')\n",
    "test_set_x = pd.read_csv(\"data/test_set_x.csv\")"
   ]
  },
  {
   "cell_type": "code",
   "execution_count": null,
   "metadata": {
    "collapsed": false
   },
   "outputs": [],
   "source": [
    "def decode_string(s):\n",
    "    return nltk.word_tokenize(str(s).decode('utf-8').lower())\n",
    "\n",
    "# Produce new representation of data such that each word is associated with \n",
    "# the number of times it is observed in a text of a particular language.\n",
    "\n",
    "bow = {}\n",
    "\n",
    "# Construct hash of arrays.\n",
    "\n",
    "for index, row in train_set.iterrows():\n",
    "    # Code the language of the observation\n",
    "    category = np.array([0, 0, 0, 0, 0])\n",
    "    category[row['Category']] = 1\n",
    "    # Break the text into words\n",
    "    words = decode_string(row['Text'])\n",
    "    for word in words:\n",
    "        if word in bow:\n",
    "            # Sum element-wise with entries.\n",
    "            bow[word] += category\n",
    "        else:\n",
    "            bow[word] = category\n",
    "\n",
    "# Convert into data frame\n",
    "            \n",
    "bow = pd.DataFrame(bow).transpose()\n",
    "\n",
    "print (bow)"
   ]
  },
  {
   "cell_type": "code",
   "execution_count": null,
   "metadata": {
    "collapsed": true
   },
   "outputs": [],
   "source": []
  }
 ],
 "metadata": {
  "kernelspec": {
   "display_name": "Python 2",
   "language": "python",
   "name": "python2"
  }
 },
 "nbformat": 4,
 "nbformat_minor": 2
}
